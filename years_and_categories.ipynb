{
 "metadata": {
  "language_info": {
   "codemirror_mode": {
    "name": "ipython",
    "version": 3
   },
   "file_extension": ".py",
   "mimetype": "text/x-python",
   "name": "python",
   "nbconvert_exporter": "python",
   "pygments_lexer": "ipython3",
   "version": "3.6.9-final"
  },
  "orig_nbformat": 2,
  "kernelspec": {
   "name": "Python 3.6.9 64-bit ('arxiv')",
   "display_name": "Python 3.6.9 64-bit ('arxiv')",
   "metadata": {
    "interpreter": {
     "hash": "fcb183f2d7d00baf0e566c59f9034600c51a3f77c62e0cae9840eb999a46a5d0"
    }
   }
  }
 },
 "nbformat": 4,
 "nbformat_minor": 2,
 "cells": [
  {
   "cell_type": "code",
   "execution_count": null,
   "metadata": {},
   "outputs": [],
   "source": [
    "import json\n",
    "from collections import OrderedDict\n",
    "import matplotlib.pyplot as plt\n",
    "import seaborn as sns\n",
    "\n",
    "from utils import get_year, get_category\n",
    "\n",
    "%matplotlib inline\n",
    "\n",
    "sns.set()"
   ]
  },
  {
   "cell_type": "code",
   "execution_count": null,
   "metadata": {},
   "outputs": [],
   "source": [
    "years = []\n",
    "categories = []\n",
    "\n",
    "with open('data/arxiv.json') as f:\n",
    "    for line in f:\n",
    "        data = json.loads(line)\n",
    "        years.append(get_year(data[\"versions\"]))\n",
    "        categories.append(data[\"categories\"])\n",
    "\n",
    "print(\"Number of articles:\", len(years))"
   ]
  },
  {
   "cell_type": "code",
   "execution_count": null,
   "metadata": {},
   "outputs": [],
   "source": [
    "year_and_cat_table = OrderedDict()\n",
    "for y in sorted(set(years), reverse=True):\n",
    "    year_and_cat_table[y] = {}\n",
    "\n",
    "for i in range(len(categories)):\n",
    "    y = years[i]\n",
    "    cs = categories[i].split(\" \")\n",
    "    for c in cs:\n",
    "        if c not in year_and_cat_table[y]:\n",
    "            year_and_cat_table[y][c] = 0\n",
    "        year_and_cat_table[y][c] += 1\n",
    "\n",
    "for y in year_and_cat_table:\n",
    "    d = year_and_cat_table[y]\n",
    "    d = sorted(d.items(), key=lambda x: x[1], reverse=True)\n",
    "    year_and_cat_table[y] = OrderedDict(d)"
   ]
  },
  {
   "cell_type": "code",
   "execution_count": null,
   "metadata": {},
   "outputs": [],
   "source": [
    "last_n_years = 5\n",
    "top_n_categories = 5\n",
    "\n",
    "years = []\n",
    "cs = []\n",
    "nums = []\n",
    "\n",
    "for i, y in enumerate(year_and_cat_table):\n",
    "    years.append(y)\n",
    "    for j, c in enumerate(year_and_cat_table[y]):\n",
    "        cs.append(get_category(c))\n",
    "        nums.append(year_and_cat_table[y][c])\n",
    "        if j == top_n_categories - 1:\n",
    "            if i != last_n_years - 1:\n",
    "                cs.append(\"\")\n",
    "                nums.append(0)\n",
    "            break\n",
    "    if i == last_n_years - 1:\n",
    "        break\n",
    "\n",
    "years.reverse()\n",
    "cs.reverse()\n",
    "nums.reverse()"
   ]
  },
  {
   "cell_type": "code",
   "execution_count": null,
   "metadata": {},
   "outputs": [],
   "source": [
    "cs_colors = [\n",
    "    \"#95B8D1\",\n",
    "    \"#68A37B\",\n",
    "    \"#E66A6C\",\n",
    "    \"#F1D302\",\n",
    "    \"#EDAFB8\",\n",
    "    \"#FA9F42\",\n",
    "    \"#DBF4A7\",\n",
    "    \"#72CF53\",\n",
    "    ]\n",
    "cs_colors = iter(cs_colors)\n",
    "cmap = {}\n",
    "colors = []\n",
    "for c in cs:\n",
    "    if c not in cmap:\n",
    "        cmap[c] = next(cs_colors) if len(c) > 0 else \"#000000\"\n",
    "    colors.append(cmap[c])\n",
    "\n",
    "use_textures = False\n",
    "\n",
    "if use_textures:\n",
    "    cs_textures = [ \"|\" , \"/\" , \"+\" , \"-\", \".\", \"*\",\"x\", \"O\" ]\n",
    "    cs_textures = iter(cs_textures)\n",
    "    texture_map = {}\n",
    "    textures = []\n",
    "    for c in cs:\n",
    "        if c not in texture_map:\n",
    "            texture_map[c] = next(cs_textures) if len(c) > 0 else \"\"\n",
    "        textures.append(texture_map[c])\n",
    "else:\n",
    "    textures = [\"\" for _ in cs]"
   ]
  },
  {
   "cell_type": "code",
   "execution_count": null,
   "metadata": {},
   "outputs": [],
   "source": [
    "fig, ax = plt.subplots(figsize=(25, 5))\n",
    "plt.xticks(fontsize=14, rotation=45, ha=\"right\")\n",
    "plt.yticks(fontsize=14)\n",
    "title = f\"Most active research fields in the last {last_n_years} years\"\n",
    "ax.set_title(title, fontsize=24, fontweight=\"bold\")\n",
    "ax.set_ylabel(\"Number of papers on arXiv\", fontsize=20)\n",
    "\n",
    "bars = []\n",
    "for i in range(len(cs)):\n",
    "    bar = ax.bar(\n",
    "        i,\n",
    "        nums[i],\n",
    "        width=0.7,\n",
    "        color=colors[i],\n",
    "        hatch=textures[i],\n",
    "        edgecolor=\"black\"\n",
    "    )\n",
    "    bars.append(bar[0])\n",
    "\n",
    "ax.set_xticks(range(len(cs)))\n",
    "ax.set_xticklabels(cs)\n",
    "ax.set_ylim(0, max(nums) + 2000)\n",
    "\n",
    "for i in range(len(bars)):\n",
    "    if nums[i] > 0:\n",
    "        x = bars[i].get_x() + bars[i].get_width() / 2.0\n",
    "        y = bars[i].get_height()\n",
    "        plt.text(x, y, nums[i], ha='center', va='bottom', fontsize=14)\n",
    "\n",
    "for year, i in enumerate(range(2, len(bars), 6)):\n",
    "    x = bars[i].get_x() + bars[i].get_width() / 2.0\n",
    "    y = bars[i].get_height() + 3000\n",
    "    plt.text(x, y, years[year], ha='center', va='bottom', fontsize=32)"
   ]
  }
 ]
}