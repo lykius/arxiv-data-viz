{
 "metadata": {
  "language_info": {
   "codemirror_mode": {
    "name": "ipython",
    "version": 3
   },
   "file_extension": ".py",
   "mimetype": "text/x-python",
   "name": "python",
   "nbconvert_exporter": "python",
   "pygments_lexer": "ipython3",
   "version": "3.6.9-final"
  },
  "orig_nbformat": 2,
  "kernelspec": {
   "name": "Python 3.6.9 64-bit ('arxiv')",
   "display_name": "Python 3.6.9 64-bit ('arxiv')",
   "metadata": {
    "interpreter": {
     "hash": "fcb183f2d7d00baf0e566c59f9034600c51a3f77c62e0cae9840eb999a46a5d0"
    }
   }
  }
 },
 "nbformat": 4,
 "nbformat_minor": 2,
 "cells": [
  {
   "cell_type": "code",
   "execution_count": null,
   "metadata": {},
   "outputs": [],
   "source": [
    "import json\n",
    "import arxiv.taxonomy as tax\n",
    "from datetime import datetime\n",
    "from collections import OrderedDict\n",
    "import matplotlib.pyplot as plt\n",
    "import seaborn as sns\n",
    "\n",
    "%matplotlib inline\n",
    "\n",
    "sns.set()"
   ]
  },
  {
   "cell_type": "code",
   "execution_count": null,
   "metadata": {},
   "outputs": [],
   "source": [
    "def get_category(id):\n",
    "    archive = tax.get_archive_display(id.split(\".\")[0])\n",
    "    category = tax.get_category_display(id)\n",
    "    return \": \".join([s.split(\"(\")[0].strip() for s in [archive, category]])\n",
    "\n",
    "def get_year(versions_history):\n",
    "    d = datetime.strptime(versions_history[0][\"created\"], \"%a, %d %b %Y %H:%M:%S %Z\")\n",
    "    return d.year"
   ]
  },
  {
   "cell_type": "code",
   "execution_count": null,
   "metadata": {},
   "outputs": [],
   "source": [
    "# print the first element of the dataset\n",
    "\n",
    "with open('data/arxiv.json') as f:\n",
    "    for line in f:\n",
    "        article = json.loads(line)\n",
    "        break\n",
    "\n",
    "for k in article:\n",
    "    print(k, article[k], sep=\": \")"
   ]
  },
  {
   "cell_type": "code",
   "execution_count": null,
   "metadata": {},
   "outputs": [],
   "source": [
    "# collect authors and category for each article\n",
    "\n",
    "authors = []\n",
    "categories = []\n",
    "years = []\n",
    "\n",
    "with open('data/arxiv.json') as f:\n",
    "    for line in f:\n",
    "        data = json.loads(line)\n",
    "        authors.append(data[\"authors\"])\n",
    "        categories.append(data[\"categories\"])\n",
    "        years.append(get_year(data[\"versions\"]))\n",
    "\n",
    "print(\"Number of articles:\", len(authors))"
   ]
  },
  {
   "cell_type": "code",
   "execution_count": null,
   "metadata": {},
   "outputs": [],
   "source": [
    "year_and_cat_table = OrderedDict()\n",
    "for y in sorted(set(years), reverse=True):\n",
    "    year_and_cat_table[y] = {}\n",
    "\n",
    "for i in range(len(categories)):\n",
    "    y = years[i]\n",
    "    cs = categories[i].split(\" \")\n",
    "    for c in cs:\n",
    "        if c not in year_and_cat_table[y]:\n",
    "            year_and_cat_table[y][c] = 0\n",
    "        year_and_cat_table[y][c] += 1\n",
    "\n",
    "for y in year_and_cat_table:\n",
    "    d = year_and_cat_table[y]\n",
    "    d = sorted(d.items(), key=lambda x: x[1], reverse=True)\n",
    "    year_and_cat_table[y] = OrderedDict(d)"
   ]
  },
  {
   "cell_type": "code",
   "execution_count": null,
   "metadata": {},
   "outputs": [],
   "source": [
    "top_n_categories = 5\n",
    "\n",
    "cs = []\n",
    "nums = []\n",
    "\n",
    "for i, c in enumerate(year_and_cat_table[2017]):\n",
    "    cs.append(c)\n",
    "    nums.append(year_and_cat_table[2017][c])\n",
    "    if i == top_n_categories - 1:\n",
    "        break\n",
    "\n",
    "plt.bar(range(len(cs)), nums, tick_label=cs)"
   ]
  }
 ]
}