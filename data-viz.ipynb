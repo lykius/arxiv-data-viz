{
 "metadata": {
  "language_info": {
   "codemirror_mode": {
    "name": "ipython",
    "version": 3
   },
   "file_extension": ".py",
   "mimetype": "text/x-python",
   "name": "python",
   "nbconvert_exporter": "python",
   "pygments_lexer": "ipython3",
   "version": "3.6.9-final"
  },
  "orig_nbformat": 2,
  "kernelspec": {
   "name": "Python 3.6.9 64-bit ('arxiv')",
   "display_name": "Python 3.6.9 64-bit ('arxiv')",
   "metadata": {
    "interpreter": {
     "hash": "fcb183f2d7d00baf0e566c59f9034600c51a3f77c62e0cae9840eb999a46a5d0"
    }
   }
  }
 },
 "nbformat": 4,
 "nbformat_minor": 2,
 "cells": [
  {
   "cell_type": "code",
   "execution_count": 1,
   "metadata": {},
   "outputs": [],
   "source": [
    "import json"
   ]
  },
  {
   "cell_type": "code",
   "execution_count": 14,
   "metadata": {},
   "outputs": [
    {
     "output_type": "stream",
     "name": "stdout",
     "text": [
      "id: 0704.0001\nsubmitter: Pavel Nadolsky\nauthors: C. Bal\\'azs, E. L. Berger, P. M. Nadolsky, C.-P. Yuan\ntitle: Calculation of prompt diphoton production cross sections at Tevatron and\n  LHC energies\ncomments: 37 pages, 15 figures; published version\njournal-ref: Phys.Rev.D76:013009,2007\ndoi: 10.1103/PhysRevD.76.013009\nreport-no: ANL-HEP-PR-07-12\ncategories: hep-ph\nlicense: None\nabstract:   A fully differential calculation in perturbative quantum chromodynamics is\npresented for the production of massive photon pairs at hadron colliders. All\nnext-to-leading order perturbative contributions from quark-antiquark,\ngluon-(anti)quark, and gluon-gluon subprocesses are included, as well as\nall-orders resummation of initial-state gluon radiation valid at\nnext-to-next-to-leading logarithmic accuracy. The region of phase space is\nspecified in which the calculation is most reliable. Good agreement is\ndemonstrated with data from the Fermilab Tevatron, and predictions are made for\nmore detailed tests with CDF and DO data. Predictions are shown for\ndistributions of diphoton pairs produced at the energy of the Large Hadron\nCollider (LHC). Distributions of the diphoton pairs from the decay of a Higgs\nboson are contrasted with those produced from QCD processes at the LHC, showing\nthat enhanced sensitivity to the signal can be obtained with judicious\nselection of events.\n\nversions: [{'version': 'v1', 'created': 'Mon, 2 Apr 2007 19:18:42 GMT'}, {'version': 'v2', 'created': 'Tue, 24 Jul 2007 20:10:27 GMT'}]\nupdate_date: 2008-11-26\nauthors_parsed: [['Balázs', 'C.', ''], ['Berger', 'E. L.', ''], ['Nadolsky', 'P. M.', ''], ['Yuan', 'C. -P.', '']]\n"
     ]
    }
   ],
   "source": [
    "# print the first element of the dataset\n",
    "\n",
    "with open('data/arxiv.json') as f:\n",
    "    for line in f:\n",
    "        article = json.loads(line)\n",
    "        break\n",
    "\n",
    "for k in article:\n",
    "    print(k, article[k], sep=\": \")"
   ]
  },
  {
   "cell_type": "code",
   "execution_count": 15,
   "metadata": {},
   "outputs": [
    {
     "output_type": "stream",
     "name": "stdout",
     "text": [
      "1771038\n1771038\n"
     ]
    }
   ],
   "source": [
    "# collect authors and category for each article\n",
    "\n",
    "authors = []\n",
    "categories = []\n",
    "\n",
    "with open('data/arxiv.json') as f:\n",
    "    for line in f:\n",
    "        data = json.loads(line)\n",
    "        authors.append(data[\"authors\"])\n",
    "        categories.append(data[\"categories\"])\n",
    "\n",
    "print(len(authors))\n",
    "print(len(categories))"
   ]
  }
 ]
}