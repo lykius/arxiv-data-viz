{
 "metadata": {
  "language_info": {
   "codemirror_mode": {
    "name": "ipython",
    "version": 3
   },
   "file_extension": ".py",
   "mimetype": "text/x-python",
   "name": "python",
   "nbconvert_exporter": "python",
   "pygments_lexer": "ipython3",
   "version": "3.6.9-final"
  },
  "orig_nbformat": 2,
  "kernelspec": {
   "name": "Python 3.6.9 64-bit ('arxiv')",
   "display_name": "Python 3.6.9 64-bit ('arxiv')",
   "metadata": {
    "interpreter": {
     "hash": "fcb183f2d7d00baf0e566c59f9034600c51a3f77c62e0cae9840eb999a46a5d0"
    }
   }
  }
 },
 "nbformat": 4,
 "nbformat_minor": 2,
 "cells": [
  {
   "cell_type": "code",
   "execution_count": null,
   "metadata": {},
   "outputs": [],
   "source": [
    "from pathlib import Path\n",
    "import pycountry\n",
    "import plotly.express as px\n",
    "from tqdm import tqdm"
   ]
  },
  {
   "cell_type": "code",
   "execution_count": null,
   "metadata": {
    "tags": []
   },
   "outputs": [],
   "source": [
    "countries_dir = Path(\"data/countries\")\n",
    "countries = []\n",
    "\n",
    "for p in countries_dir.glob(\"*.txt\"):\n",
    "    with open(p) as f:\n",
    "        lines = [s.strip() for s in f.readlines()]\n",
    "        countries.extend([s for s in lines if s != \"None\"])\n",
    "\n",
    "print(\"Collected data:\", len(countries))"
   ]
  },
  {
   "cell_type": "code",
   "execution_count": null,
   "metadata": {},
   "outputs": [],
   "source": [
    "countries_num_table = {}\n",
    "name_map = {\"Macedonia, the Former Yugoslav Republic of\": \"Macedonia\"}\n",
    "\n",
    "for c in tqdm(countries, desc=\"Collecting countries codes\"):\n",
    "    country_name = name_map.get(c, c)\n",
    "    country_data = pycountry.countries.search_fuzzy(country_name)\n",
    "    country_code = country_data[0].alpha_3\n",
    "    if country_code not in countries_num_table:\n",
    "        countries_num_table[country_code] = 0\n",
    "    countries_num_table[country_code] += 1"
   ]
  },
  {
   "cell_type": "code",
   "execution_count": null,
   "metadata": {},
   "outputs": [],
   "source": [
    "def get_num_articles_label(n):\n",
    "    if n < 50:\n",
    "        return \"< 50\"\n",
    "    elif n >= 50 and n < 100:\n",
    "        return \"50-100\"\n",
    "    elif n >= 100 and n < 200:\n",
    "        return \"100-200\"\n",
    "    elif n >= 200 and n < 500:\n",
    "        return \"200-500\"\n",
    "    elif n > 500:\n",
    "        return \"> 500\"\n",
    "\n",
    "table = {\"Country\": [], \"# Articles\": []}\n",
    "\n",
    "for c in countries_num_table:\n",
    "    table[\"Country\"].append(c)\n",
    "    label = get_num_articles_label(countries_num_table[c])\n",
    "    table[\"# Articles\"].append(label)"
   ]
  },
  {
   "cell_type": "code",
   "execution_count": null,
   "metadata": {},
   "outputs": [],
   "source": [
    "fig = px.choropleth(\n",
    "    title=\"Number of articles submitted to arXiv (2020/08 - 2020/10)\",\n",
    "    data_frame = table,\n",
    "    locations = \"Country\",\n",
    "    hover_name = \"Country\",\n",
    "    color = \"# Articles\",\n",
    "    category_orders={\n",
    "        \"# Articles\": [\n",
    "            \"< 50\",\n",
    "            \"50-100\",\n",
    "            \"100-200\",\n",
    "            \"200-500\",\n",
    "            \"> 500\",\n",
    "        ]\n",
    "    },\n",
    "    color_discrete_sequence=[\n",
    "        \"#fff4d6\",\n",
    "        \"#fcbe7c\",\n",
    "        \"#ff6600\",\n",
    "        \"#c20000\",\n",
    "        \"#5d00fc\",\n",
    "    ],\n",
    ")\n",
    "\n",
    "fig.update_layout(\n",
    "    geo={\"showframe\": False},\n",
    ")\n",
    "fig.write_image(\"data/countries.pdf\")\n",
    "fig.show()"
   ]
  }
 ]
}