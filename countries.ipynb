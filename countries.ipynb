{
 "metadata": {
  "language_info": {
   "codemirror_mode": {
    "name": "ipython",
    "version": 3
   },
   "file_extension": ".py",
   "mimetype": "text/x-python",
   "name": "python",
   "nbconvert_exporter": "python",
   "pygments_lexer": "ipython3",
   "version": "3.6.9-final"
  },
  "orig_nbformat": 2,
  "kernelspec": {
   "name": "Python 3.6.9 64-bit ('arxiv')",
   "display_name": "Python 3.6.9 64-bit ('arxiv')",
   "metadata": {
    "interpreter": {
     "hash": "fcb183f2d7d00baf0e566c59f9034600c51a3f77c62e0cae9840eb999a46a5d0"
    }
   }
  }
 },
 "nbformat": 4,
 "nbformat_minor": 2,
 "cells": [
  {
   "cell_type": "code",
   "execution_count": null,
   "metadata": {},
   "outputs": [],
   "source": [
    "import json\n",
    "from tqdm import tqdm\n",
    "import pycountry\n",
    "import plotly.express as px\n",
    "\n",
    "from utils import get_year, get_month, get_category\n",
    "from utils import get_submitter_info, get_country_from_domain"
   ]
  },
  {
   "cell_type": "code",
   "execution_count": null,
   "metadata": {},
   "outputs": [],
   "source": [
    "years = []\n",
    "categories = []\n",
    "submitters = []\n",
    "\n",
    "with open('data/arxiv.json') as f:\n",
    "    for line in f:\n",
    "        data = json.loads(line)\n",
    "        year = get_year(data[\"versions\"])\n",
    "        month = get_month(data[\"versions\"])\n",
    "        if year >= 2020 and month >= 10:\n",
    "            categories.append(data[\"categories\"])\n",
    "            submitters.append(data[\"submitter\"])\n",
    "            years.append(year)\n",
    "\n",
    "print(\"Number of articles:\", len(years))"
   ]
  },
  {
   "cell_type": "code",
   "execution_count": null,
   "metadata": {
    "tags": []
   },
   "outputs": [],
   "source": [
    "already_seen_submitters = {}\n",
    "already_seen_domains = {}\n",
    "\n",
    "countries = []\n",
    "for submitter in tqdm(submitters):\n",
    "    country = None\n",
    "    try:\n",
    "        if submitter in already_seen_submitters:\n",
    "            country = already_seen_submitters[submitter]\n",
    "        else:\n",
    "            submitter_info = get_submitter_info(submitter)\n",
    "            domain = submitter_info.email.split(\"@\")[1]\n",
    "            if domain in already_seen_domains:\n",
    "                country = already_seen_domains[domain]\n",
    "            else:\n",
    "                country = get_country_from_domain(domain)\n",
    "                already_seen_submitters[submitter] = country\n",
    "                already_seen_domains[domain] = country\n",
    "    except:\n",
    "        pass\n",
    "    countries.append(country)"
   ]
  },
  {
   "cell_type": "code",
   "execution_count": null,
   "metadata": {},
   "outputs": [],
   "source": [
    "countries_num_table = {}\n",
    "\n",
    "for c in countries:\n",
    "    if c is not None:\n",
    "        country_data = pycountry.countries.search_fuzzy(c)\n",
    "        country_code = country_data[0].alpha_3\n",
    "        if country_code not in countries_num_table:\n",
    "            countries_num_table[country_code] = 0\n",
    "        countries_num_table[country_code] += 1\n",
    "\n",
    "table = {\"Country\": [], \"Articles\": []}\n",
    "\n",
    "for c in pycountry.countries:\n",
    "    country_code = c.alpha_3\n",
    "    table[\"Country\"].append(country_code)\n",
    "    if country_code in countries_num_table:\n",
    "        table[\"Articles\"].append(countries_num_table[country_code])\n",
    "    else:\n",
    "        table[\"Articles\"].append(0)"
   ]
  },
  {
   "cell_type": "code",
   "execution_count": null,
   "metadata": {},
   "outputs": [],
   "source": [
    "fig = px.choropleth(\n",
    "    data_frame = table,\n",
    "    locations = \"Country\",\n",
    "    color = \"Articles\",\n",
    "    hover_name = \"Country\",\n",
    "    color_continuous_scale= \"Peach\",\n",
    ")\n",
    "\n",
    "fig.show()"
   ]
  }
 ]
}